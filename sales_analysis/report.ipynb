{
 "cells": [
  {
   "cell_type": "code",
   "execution_count": 3,
   "metadata": {},
   "outputs": [],
   "source": [
    "import pandas as pd\n",
    "import matplotlib.pyplot as plt"
   ]
  },
  {
   "cell_type": "code",
   "execution_count": 4,
   "metadata": {},
   "outputs": [],
   "source": [
    "df = pd.read_csv(\"sales_data.csv\")"
   ]
  },
  {
   "cell_type": "code",
   "execution_count": 5,
   "metadata": {},
   "outputs": [
    {
     "name": "stdout",
     "output_type": "stream",
     "text": [
      "            売上日  商品名  数量    単価 売上担当者\n",
      "0    2023-01-01  商品A  19  2801  担当者2\n",
      "1    2023-01-02  商品B  31  1616  担当者1\n",
      "2    2023-01-03  商品A  15  2833  担当者2\n",
      "3    2023-01-04  商品B  86  4676  担当者3\n",
      "4    2023-01-05  商品B  96  2026  担当者1\n",
      "..          ...  ...  ..   ...   ...\n",
      "726  2024-12-27  商品C  61  2484  担当者3\n",
      "727  2024-12-28  商品A  82  1144  担当者2\n",
      "728  2024-12-29  商品B  71  3344  担当者1\n",
      "729  2024-12-30  商品C  79  4589  担当者1\n",
      "730  2024-12-31  商品A  89  2651  担当者3\n",
      "\n",
      "[731 rows x 5 columns]\n"
     ]
    }
   ],
   "source": [
    "print(df)"
   ]
  },
  {
   "cell_type": "code",
   "execution_count": 10,
   "metadata": {},
   "outputs": [
    {
     "data": {
      "text/html": [
       "<div>\n",
       "<style scoped>\n",
       "    .dataframe tbody tr th:only-of-type {\n",
       "        vertical-align: middle;\n",
       "    }\n",
       "\n",
       "    .dataframe tbody tr th {\n",
       "        vertical-align: top;\n",
       "    }\n",
       "\n",
       "    .dataframe thead th {\n",
       "        text-align: right;\n",
       "    }\n",
       "</style>\n",
       "<table border=\"1\" class=\"dataframe\">\n",
       "  <thead>\n",
       "    <tr style=\"text-align: right;\">\n",
       "      <th></th>\n",
       "      <th>売上日</th>\n",
       "      <th>商品名</th>\n",
       "      <th>数量</th>\n",
       "      <th>単価</th>\n",
       "      <th>売上担当者</th>\n",
       "      <th>売上金額</th>\n",
       "    </tr>\n",
       "  </thead>\n",
       "  <tbody>\n",
       "    <tr>\n",
       "      <th>0</th>\n",
       "      <td>2023-01-01</td>\n",
       "      <td>商品A</td>\n",
       "      <td>19</td>\n",
       "      <td>2801</td>\n",
       "      <td>担当者2</td>\n",
       "      <td>53219</td>\n",
       "    </tr>\n",
       "    <tr>\n",
       "      <th>1</th>\n",
       "      <td>2023-01-02</td>\n",
       "      <td>商品B</td>\n",
       "      <td>31</td>\n",
       "      <td>1616</td>\n",
       "      <td>担当者1</td>\n",
       "      <td>50096</td>\n",
       "    </tr>\n",
       "    <tr>\n",
       "      <th>2</th>\n",
       "      <td>2023-01-03</td>\n",
       "      <td>商品A</td>\n",
       "      <td>15</td>\n",
       "      <td>2833</td>\n",
       "      <td>担当者2</td>\n",
       "      <td>42495</td>\n",
       "    </tr>\n",
       "    <tr>\n",
       "      <th>3</th>\n",
       "      <td>2023-01-04</td>\n",
       "      <td>商品B</td>\n",
       "      <td>86</td>\n",
       "      <td>4676</td>\n",
       "      <td>担当者3</td>\n",
       "      <td>402136</td>\n",
       "    </tr>\n",
       "    <tr>\n",
       "      <th>4</th>\n",
       "      <td>2023-01-05</td>\n",
       "      <td>商品B</td>\n",
       "      <td>96</td>\n",
       "      <td>2026</td>\n",
       "      <td>担当者1</td>\n",
       "      <td>194496</td>\n",
       "    </tr>\n",
       "  </tbody>\n",
       "</table>\n",
       "</div>"
      ],
      "text/plain": [
       "          売上日  商品名  数量    単価 売上担当者    売上金額\n",
       "0  2023-01-01  商品A  19  2801  担当者2   53219\n",
       "1  2023-01-02  商品B  31  1616  担当者1   50096\n",
       "2  2023-01-03  商品A  15  2833  担当者2   42495\n",
       "3  2023-01-04  商品B  86  4676  担当者3  402136\n",
       "4  2023-01-05  商品B  96  2026  担当者1  194496"
      ]
     },
     "execution_count": 10,
     "metadata": {},
     "output_type": "execute_result"
    }
   ],
   "source": [
    "# 売上金額の計算\n",
    "df[\"売上金額\"] = df[\"数量\"] * df[\"単価\"]\n",
    "\n",
    "# 先頭5行を表示\n",
    "df.head()"
   ]
  },
  {
   "cell_type": "code",
   "execution_count": 11,
   "metadata": {},
   "outputs": [
    {
     "data": {
      "text/plain": [
       "count       731.000000\n",
       "mean     151139.485636\n",
       "std      105082.378269\n",
       "min        1938.000000\n",
       "25%       66710.500000\n",
       "50%      128723.000000\n",
       "75%      218102.500000\n",
       "max      482866.000000\n",
       "Name: 売上金額, dtype: float64"
      ]
     },
     "execution_count": 11,
     "metadata": {},
     "output_type": "execute_result"
    }
   ],
   "source": [
    "# 売上金額の基本統計量\n",
    "df[\"売上金額\"].describe()"
   ]
  },
  {
   "cell_type": "code",
   "execution_count": 13,
   "metadata": {},
   "outputs": [
    {
     "name": "stderr",
     "output_type": "stream",
     "text": [
      "/var/folders/vp/1s2n2bw54fs726knw89jw3xc0000gn/T/ipykernel_67700/930971866.py:11: UserWarning: Glyph 26085 (\\N{CJK UNIFIED IDEOGRAPH-65E5}) missing from font(s) DejaVu Sans.\n",
      "  plt.tight_layout()\n",
      "/var/folders/vp/1s2n2bw54fs726knw89jw3xc0000gn/T/ipykernel_67700/930971866.py:11: UserWarning: Glyph 20184 (\\N{CJK UNIFIED IDEOGRAPH-4ED8}) missing from font(s) DejaVu Sans.\n",
      "  plt.tight_layout()\n",
      "/var/folders/vp/1s2n2bw54fs726knw89jw3xc0000gn/T/ipykernel_67700/930971866.py:11: UserWarning: Glyph 22770 (\\N{CJK UNIFIED IDEOGRAPH-58F2}) missing from font(s) DejaVu Sans.\n",
      "  plt.tight_layout()\n",
      "/var/folders/vp/1s2n2bw54fs726knw89jw3xc0000gn/T/ipykernel_67700/930971866.py:11: UserWarning: Glyph 19978 (\\N{CJK UNIFIED IDEOGRAPH-4E0A}) missing from font(s) DejaVu Sans.\n",
      "  plt.tight_layout()\n",
      "/var/folders/vp/1s2n2bw54fs726knw89jw3xc0000gn/T/ipykernel_67700/930971866.py:11: UserWarning: Glyph 37329 (\\N{CJK UNIFIED IDEOGRAPH-91D1}) missing from font(s) DejaVu Sans.\n",
      "  plt.tight_layout()\n",
      "/var/folders/vp/1s2n2bw54fs726knw89jw3xc0000gn/T/ipykernel_67700/930971866.py:11: UserWarning: Glyph 38989 (\\N{CJK UNIFIED IDEOGRAPH-984D}) missing from font(s) DejaVu Sans.\n",
      "  plt.tight_layout()\n",
      "/var/folders/vp/1s2n2bw54fs726knw89jw3xc0000gn/T/ipykernel_67700/930971866.py:11: UserWarning: Glyph 21029 (\\N{CJK UNIFIED IDEOGRAPH-5225}) missing from font(s) DejaVu Sans.\n",
      "  plt.tight_layout()\n",
      "/var/folders/vp/1s2n2bw54fs726knw89jw3xc0000gn/T/ipykernel_67700/930971866.py:11: UserWarning: Glyph 21512 (\\N{CJK UNIFIED IDEOGRAPH-5408}) missing from font(s) DejaVu Sans.\n",
      "  plt.tight_layout()\n",
      "/var/folders/vp/1s2n2bw54fs726knw89jw3xc0000gn/T/ipykernel_67700/930971866.py:11: UserWarning: Glyph 35336 (\\N{CJK UNIFIED IDEOGRAPH-8A08}) missing from font(s) DejaVu Sans.\n",
      "  plt.tight_layout()\n",
      "/Users/junkihayashi/Library/Python/3.9/lib/python/site-packages/IPython/core/pylabtools.py:152: UserWarning: Glyph 22770 (\\N{CJK UNIFIED IDEOGRAPH-58F2}) missing from font(s) DejaVu Sans.\n",
      "  fig.canvas.print_figure(bytes_io, **kw)\n",
      "/Users/junkihayashi/Library/Python/3.9/lib/python/site-packages/IPython/core/pylabtools.py:152: UserWarning: Glyph 19978 (\\N{CJK UNIFIED IDEOGRAPH-4E0A}) missing from font(s) DejaVu Sans.\n",
      "  fig.canvas.print_figure(bytes_io, **kw)\n",
      "/Users/junkihayashi/Library/Python/3.9/lib/python/site-packages/IPython/core/pylabtools.py:152: UserWarning: Glyph 37329 (\\N{CJK UNIFIED IDEOGRAPH-91D1}) missing from font(s) DejaVu Sans.\n",
      "  fig.canvas.print_figure(bytes_io, **kw)\n",
      "/Users/junkihayashi/Library/Python/3.9/lib/python/site-packages/IPython/core/pylabtools.py:152: UserWarning: Glyph 38989 (\\N{CJK UNIFIED IDEOGRAPH-984D}) missing from font(s) DejaVu Sans.\n",
      "  fig.canvas.print_figure(bytes_io, **kw)\n",
      "/Users/junkihayashi/Library/Python/3.9/lib/python/site-packages/IPython/core/pylabtools.py:152: UserWarning: Glyph 26085 (\\N{CJK UNIFIED IDEOGRAPH-65E5}) missing from font(s) DejaVu Sans.\n",
      "  fig.canvas.print_figure(bytes_io, **kw)\n",
      "/Users/junkihayashi/Library/Python/3.9/lib/python/site-packages/IPython/core/pylabtools.py:152: UserWarning: Glyph 21029 (\\N{CJK UNIFIED IDEOGRAPH-5225}) missing from font(s) DejaVu Sans.\n",
      "  fig.canvas.print_figure(bytes_io, **kw)\n",
      "/Users/junkihayashi/Library/Python/3.9/lib/python/site-packages/IPython/core/pylabtools.py:152: UserWarning: Glyph 21512 (\\N{CJK UNIFIED IDEOGRAPH-5408}) missing from font(s) DejaVu Sans.\n",
      "  fig.canvas.print_figure(bytes_io, **kw)\n",
      "/Users/junkihayashi/Library/Python/3.9/lib/python/site-packages/IPython/core/pylabtools.py:152: UserWarning: Glyph 35336 (\\N{CJK UNIFIED IDEOGRAPH-8A08}) missing from font(s) DejaVu Sans.\n",
      "  fig.canvas.print_figure(bytes_io, **kw)\n",
      "/Users/junkihayashi/Library/Python/3.9/lib/python/site-packages/IPython/core/pylabtools.py:152: UserWarning: Glyph 20184 (\\N{CJK UNIFIED IDEOGRAPH-4ED8}) missing from font(s) DejaVu Sans.\n",
      "  fig.canvas.print_figure(bytes_io, **kw)\n"
     ]
    },
    {
     "data": {
      "image/png": "[encoded data removed]",
      "text/plain": [
       "<Figure size 1000x600 with 1 Axes>"
      ]
     },
     "metadata": {},
     "output_type": "display_data"
    }
   ],
   "source": [
    "# 日別売上合計を計算\n",
    "daily_sales = df.groupby(\"売上日\")[\"売上金額\"].sum()\n",
    "\n",
    "# グラフ描画\n",
    "plt.figure(figsize=(10, 6))\n",
    "daily_sales.plot(kind=\"bar\", color=\"skyblue\", edgecolor=\"black\")\n",
    "plt.title(\"日別売上合計\")\n",
    "plt.xlabel(\"日付\")\n",
    "plt.ylabel(\"売上金額\")\n",
    "plt.xticks(rotation=45)\n",
    "plt.tight_layout()\n",
    "plt.show()"
   ]
  },
  {
   "cell_type": "code",
   "execution_count": 16,
   "metadata": {},
   "outputs": [
    {
     "name": "stdout",
     "output_type": "stream",
     "text": [
      "最も売れた商品: 商品B(売上 39961039円)\n"
     ]
    },
    {
     "name": "stderr",
     "output_type": "stream",
     "text": [
      "/var/folders/vp/1s2n2bw54fs726knw89jw3xc0000gn/T/ipykernel_67700/158533263.py:18: UserWarning: Glyph 21830 (\\N{CJK UNIFIED IDEOGRAPH-5546}) missing from font(s) DejaVu Sans.\n",
      "  plt.tight_layout()\n",
      "/var/folders/vp/1s2n2bw54fs726knw89jw3xc0000gn/T/ipykernel_67700/158533263.py:18: UserWarning: Glyph 21697 (\\N{CJK UNIFIED IDEOGRAPH-54C1}) missing from font(s) DejaVu Sans.\n",
      "  plt.tight_layout()\n",
      "/var/folders/vp/1s2n2bw54fs726knw89jw3xc0000gn/T/ipykernel_67700/158533263.py:18: UserWarning: Glyph 21517 (\\N{CJK UNIFIED IDEOGRAPH-540D}) missing from font(s) DejaVu Sans.\n",
      "  plt.tight_layout()\n",
      "/var/folders/vp/1s2n2bw54fs726knw89jw3xc0000gn/T/ipykernel_67700/158533263.py:18: UserWarning: Glyph 22770 (\\N{CJK UNIFIED IDEOGRAPH-58F2}) missing from font(s) DejaVu Sans.\n",
      "  plt.tight_layout()\n",
      "/var/folders/vp/1s2n2bw54fs726knw89jw3xc0000gn/T/ipykernel_67700/158533263.py:18: UserWarning: Glyph 19978 (\\N{CJK UNIFIED IDEOGRAPH-4E0A}) missing from font(s) DejaVu Sans.\n",
      "  plt.tight_layout()\n",
      "/var/folders/vp/1s2n2bw54fs726knw89jw3xc0000gn/T/ipykernel_67700/158533263.py:18: UserWarning: Glyph 37329 (\\N{CJK UNIFIED IDEOGRAPH-91D1}) missing from font(s) DejaVu Sans.\n",
      "  plt.tight_layout()\n",
      "/var/folders/vp/1s2n2bw54fs726knw89jw3xc0000gn/T/ipykernel_67700/158533263.py:18: UserWarning: Glyph 38989 (\\N{CJK UNIFIED IDEOGRAPH-984D}) missing from font(s) DejaVu Sans.\n",
      "  plt.tight_layout()\n",
      "/var/folders/vp/1s2n2bw54fs726knw89jw3xc0000gn/T/ipykernel_67700/158533263.py:18: UserWarning: Glyph 21029 (\\N{CJK UNIFIED IDEOGRAPH-5225}) missing from font(s) DejaVu Sans.\n",
      "  plt.tight_layout()\n",
      "/var/folders/vp/1s2n2bw54fs726knw89jw3xc0000gn/T/ipykernel_67700/158533263.py:18: UserWarning: Glyph 21512 (\\N{CJK UNIFIED IDEOGRAPH-5408}) missing from font(s) DejaVu Sans.\n",
      "  plt.tight_layout()\n",
      "/var/folders/vp/1s2n2bw54fs726knw89jw3xc0000gn/T/ipykernel_67700/158533263.py:18: UserWarning: Glyph 35336 (\\N{CJK UNIFIED IDEOGRAPH-8A08}) missing from font(s) DejaVu Sans.\n",
      "  plt.tight_layout()\n",
      "/Users/junkihayashi/Library/Python/3.9/lib/python/site-packages/IPython/core/pylabtools.py:152: UserWarning: Glyph 22770 (\\N{CJK UNIFIED IDEOGRAPH-58F2}) missing from font(s) DejaVu Sans.\n",
      "  fig.canvas.print_figure(bytes_io, **kw)\n",
      "/Users/junkihayashi/Library/Python/3.9/lib/python/site-packages/IPython/core/pylabtools.py:152: UserWarning: Glyph 19978 (\\N{CJK UNIFIED IDEOGRAPH-4E0A}) missing from font(s) DejaVu Sans.\n",
      "  fig.canvas.print_figure(bytes_io, **kw)\n",
      "/Users/junkihayashi/Library/Python/3.9/lib/python/site-packages/IPython/core/pylabtools.py:152: UserWarning: Glyph 37329 (\\N{CJK UNIFIED IDEOGRAPH-91D1}) missing from font(s) DejaVu Sans.\n",
      "  fig.canvas.print_figure(bytes_io, **kw)\n",
      "/Users/junkihayashi/Library/Python/3.9/lib/python/site-packages/IPython/core/pylabtools.py:152: UserWarning: Glyph 38989 (\\N{CJK UNIFIED IDEOGRAPH-984D}) missing from font(s) DejaVu Sans.\n",
      "  fig.canvas.print_figure(bytes_io, **kw)\n",
      "/Users/junkihayashi/Library/Python/3.9/lib/python/site-packages/IPython/core/pylabtools.py:152: UserWarning: Glyph 21830 (\\N{CJK UNIFIED IDEOGRAPH-5546}) missing from font(s) DejaVu Sans.\n",
      "  fig.canvas.print_figure(bytes_io, **kw)\n",
      "/Users/junkihayashi/Library/Python/3.9/lib/python/site-packages/IPython/core/pylabtools.py:152: UserWarning: Glyph 21697 (\\N{CJK UNIFIED IDEOGRAPH-54C1}) missing from font(s) DejaVu Sans.\n",
      "  fig.canvas.print_figure(bytes_io, **kw)\n",
      "/Users/junkihayashi/Library/Python/3.9/lib/python/site-packages/IPython/core/pylabtools.py:152: UserWarning: Glyph 21029 (\\N{CJK UNIFIED IDEOGRAPH-5225}) missing from font(s) DejaVu Sans.\n",
      "  fig.canvas.print_figure(bytes_io, **kw)\n",
      "/Users/junkihayashi/Library/Python/3.9/lib/python/site-packages/IPython/core/pylabtools.py:152: UserWarning: Glyph 21512 (\\N{CJK UNIFIED IDEOGRAPH-5408}) missing from font(s) DejaVu Sans.\n",
      "  fig.canvas.print_figure(bytes_io, **kw)\n",
      "/Users/junkihayashi/Library/Python/3.9/lib/python/site-packages/IPython/core/pylabtools.py:152: UserWarning: Glyph 35336 (\\N{CJK UNIFIED IDEOGRAPH-8A08}) missing from font(s) DejaVu Sans.\n",
      "  fig.canvas.print_figure(bytes_io, **kw)\n",
      "/Users/junkihayashi/Library/Python/3.9/lib/python/site-packages/IPython/core/pylabtools.py:152: UserWarning: Glyph 21517 (\\N{CJK UNIFIED IDEOGRAPH-540D}) missing from font(s) DejaVu Sans.\n",
      "  fig.canvas.print_figure(bytes_io, **kw)\n"
     ]
    },
    {
     "data": {
      "image/png": "[encoded data removed]",
      "text/plain": [
       "<Figure size 1000x600 with 1 Axes>"
      ]
     },
     "metadata": {},
     "output_type": "display_data"
    }
   ],
   "source": [
    "# 商品ごとの売上金額合計\n",
    "sales_by_product = df.groupby(\"商品名\")[\"売上金額\"].sum()\n",
    "\n",
    "# 最大売上商\n",
    "best_product = sales_by_product.idxmax()\n",
    "best_sales = sales_by_product.max()\n",
    "\n",
    "print(f\"最も売れた商品: {best_product}(売上 {best_sales}円)\")\n",
    "\n",
    "# 商品売上の棒グラフ\n",
    "plt.figure(figsize=(10, 6))\n",
    "sales_by_product.sort_values().plot(kind=\"bar\", color=\"lightcoral\", edgecolor=\"black\")\n",
    "plt.axvline(best_sales, color=\"red\", linestyle=\"dashed\", linewidth=2, label=f\"Best Seller: {best_product}\")\n",
    "plt.title(\"商品別売上合計\")\n",
    "plt.xlabel(\"商品名\")\n",
    "plt.ylabel(\"売上金額\")\n",
    "plt.legend()\n",
    "plt.tight_layout()\n",
    "plt.show()"
   ]
  },
  {
   "cell_type": "code",
   "execution_count": 17,
   "metadata": {},
   "outputs": [
    {
     "data": {
      "text/html": [
       "<div>\n",
       "<style scoped>\n",
       "    .dataframe tbody tr th:only-of-type {\n",
       "        vertical-align: middle;\n",
       "    }\n",
       "\n",
       "    .dataframe tbody tr th {\n",
       "        vertical-align: top;\n",
       "    }\n",
       "\n",
       "    .dataframe thead th {\n",
       "        text-align: right;\n",
       "    }\n",
       "</style>\n",
       "<table border=\"1\" class=\"dataframe\">\n",
       "  <thead>\n",
       "    <tr style=\"text-align: right;\">\n",
       "      <th></th>\n",
       "      <th>売上日</th>\n",
       "      <th>商品名</th>\n",
       "      <th>数量</th>\n",
       "      <th>単価</th>\n",
       "      <th>売上担当者</th>\n",
       "      <th>売上金額</th>\n",
       "    </tr>\n",
       "  </thead>\n",
       "  <tbody>\n",
       "    <tr>\n",
       "      <th>86</th>\n",
       "      <td>2023-03-28</td>\n",
       "      <td>商品B</td>\n",
       "      <td>94</td>\n",
       "      <td>4926</td>\n",
       "      <td>担当者1</td>\n",
       "      <td>463044</td>\n",
       "    </tr>\n",
       "    <tr>\n",
       "      <th>228</th>\n",
       "      <td>2023-08-17</td>\n",
       "      <td>商品C</td>\n",
       "      <td>99</td>\n",
       "      <td>4588</td>\n",
       "      <td>担当者2</td>\n",
       "      <td>454212</td>\n",
       "    </tr>\n",
       "    <tr>\n",
       "      <th>522</th>\n",
       "      <td>2024-06-06</td>\n",
       "      <td>商品C</td>\n",
       "      <td>97</td>\n",
       "      <td>4978</td>\n",
       "      <td>担当者3</td>\n",
       "      <td>482866</td>\n",
       "    </tr>\n",
       "  </tbody>\n",
       "</table>\n",
       "</div>"
      ],
      "text/plain": [
       "            売上日  商品名  数量    単価 売上担当者    売上金額\n",
       "86   2023-03-28  商品B  94  4926  担当者1  463044\n",
       "228  2023-08-17  商品C  99  4588  担当者2  454212\n",
       "522  2024-06-06  商品C  97  4978  担当者3  482866"
      ]
     },
     "execution_count": 17,
     "metadata": {},
     "output_type": "execute_result"
    }
   ],
   "source": [
    "# IQR（四分位範囲）を計算\n",
    "Q1 = df[\"売上金額\"].quantile(0.25)\n",
    "Q3 = df[\"売上金額\"].quantile(0.75)\n",
    "IQR = Q3 - Q1\n",
    "lower_bound = Q1 - 1.5 * IQR\n",
    "upper_bound = Q3 + 1.5 * IQR\n",
    "\n",
    "# 異常値を抽出\n",
    "outliers = df[(df[\"売上金額\"] < lower_bound) | (df[\"売上金額\"] > upper_bound)]\n",
    "outliers"
   ]
  },
  {
   "cell_type": "code",
   "execution_count": 18,
   "metadata": {},
   "outputs": [
    {
     "name": "stdout",
     "output_type": "stream",
     "text": [
      "分析結果を 'sales_analysis_result.csv' に保存しました。\n"
     ]
    }
   ],
   "source": [
    "# 売上分析結果をCSVで保存\n",
    "df.to_csv(\"sales_analysis_result.csv\", index=False)\n",
    "print(\"分析結果を 'sales_analysis_result.csv' に保存しました。\")"
   ]
  },
  {
   "cell_type": "code",
   "execution_count": null,
   "metadata": {},
   "outputs": [],
   "source": []
  }
 ],
 "metadata": {
  "kernelspec": {
   "display_name": "Python 3",
   "language": "python",
   "name": "python3"
  },
  "language_info": {
   "codemirror_mode": {
    "name": "ipython",
    "version": 3
   },
   "file_extension": ".py",
   "mimetype": "text/x-python",
   "name": "python",
   "nbconvert_exporter": "python",
   "pygments_lexer": "ipython3",
   "version": "3.9.6"
  }
 },
 "nbformat": 4,
 "nbformat_minor": 2
}
